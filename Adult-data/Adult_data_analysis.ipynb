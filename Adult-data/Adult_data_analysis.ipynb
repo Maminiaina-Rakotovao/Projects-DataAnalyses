{
 "cells": [
  {
   "cell_type": "markdown",
   "id": "0eaae32f",
   "metadata": {},
   "source": [
    "Task:\n",
    "\n",
    "Analyze demographic data which was extracted from the 1994 census database."
   ]
  },
  {
   "cell_type": "markdown",
   "id": "4067f0f6",
   "metadata": {},
   "source": [
    "## Stage 1. Data acquisition\n",
    "\n",
    "### Let's examine the data provided for this project"
   ]
  },
  {
   "cell_type": "markdown",
   "id": "28efba7a",
   "metadata": {},
   "source": [
    "The data is from https://www.kaggle.com/datasets/uciml/adult-census-income\n",
    "\n",
    "About Dataset\n",
    "\n",
    "This data was extracted from the 1994 Census bureau database by Ronny Kohavi and Barry Becker (Data Mining and Visualization, Silicon Graphics). A set of reasonably clean records was extracted using the following conditions: ((AAGE>16) && (AGI>100) && (AFNLWGT>1) && (HRSWK>0)). The prediction task is to determine whether a person makes over $50K a year.\n",
    "\n",
    "Description of fnlwgt (final weight)\n",
    "\n",
    "The weights on the Current Population Survey (CPS) files are controlled to independent estimates of the civilian noninstitutional population of the US. These are prepared monthly for us by Population Division here at the Census Bureau. We use 3 sets of controls. These are:\n",
    "\n",
    "    1 - A single cell estimate of the population 16+ for each state.\n",
    "\n",
    "    2 - Controls for Hispanic Origin by age and sex.\n",
    "\n",
    "    3 - Controls by Race, age and sex.\n",
    "\n",
    "We use all three sets of controls in our weighting program and \"rake\" through them 6 times so that by the end we come back to all the controls we used. The term estimate refers to population totals derived from CPS by creating \"weighted tallies\" of any specified socio-economic characteristics of the population. People with similar demographic characteristics should have similar weights. There is one important caveat to remember about this statement. That is that since the CPS sample is actually a collection of 51 state samples, each with its own probability of selection, the statement only applies within state."
   ]
  },
  {
   "cell_type": "code",
   "execution_count": 1,
   "id": "9b17544a",
   "metadata": {},
   "outputs": [],
   "source": [
    "import pandas as pd"
   ]
  },
  {
   "cell_type": "code",
   "execution_count": 2,
   "id": "b66cb5a5",
   "metadata": {},
   "outputs": [],
   "source": [
    "data = pd.read_csv('adult.csv')\n",
    "adult_data = data.copy() # make a deep copy to avoid bad manipulation of the main data"
   ]
  },
  {
   "cell_type": "markdown",
   "id": "990edc46",
   "metadata": {},
   "source": [
    "Let's analyze in detail which columns are in adult_data and what information they contain:"
   ]
  },
  {
   "cell_type": "code",
   "execution_count": 3,
   "id": "bf8a70a7",
   "metadata": {},
   "outputs": [
    {
     "data": {
      "text/plain": [
       "Index(['age', 'workclass', 'fnlwgt', 'education', 'education-num',\n",
       "       'marital-status', 'occupation', 'relationship', 'race', 'sex',\n",
       "       'capital-gain', 'capital-loss', 'hours-per-week', 'native-country',\n",
       "       'salary'],\n",
       "      dtype='object')"
      ]
     },
     "execution_count": 3,
     "metadata": {},
     "output_type": "execute_result"
    }
   ],
   "source": [
    "adult_data.columns"
   ]
  },
  {
   "cell_type": "code",
   "execution_count": 4,
   "id": "7b9577bb",
   "metadata": {},
   "outputs": [
    {
     "name": "stdout",
     "output_type": "stream",
     "text": [
      "<class 'pandas.core.frame.DataFrame'>\n",
      "RangeIndex: 32561 entries, 0 to 32560\n",
      "Data columns (total 15 columns):\n",
      " #   Column          Non-Null Count  Dtype \n",
      "---  ------          --------------  ----- \n",
      " 0   age             32561 non-null  int64 \n",
      " 1   workclass       32561 non-null  object\n",
      " 2   fnlwgt          32561 non-null  int64 \n",
      " 3   education       32561 non-null  object\n",
      " 4   education-num   32561 non-null  int64 \n",
      " 5   marital-status  32561 non-null  object\n",
      " 6   occupation      32561 non-null  object\n",
      " 7   relationship    32561 non-null  object\n",
      " 8   race            32561 non-null  object\n",
      " 9   sex             32561 non-null  object\n",
      " 10  capital-gain    32561 non-null  int64 \n",
      " 11  capital-loss    32561 non-null  int64 \n",
      " 12  hours-per-week  32561 non-null  int64 \n",
      " 13  native-country  32561 non-null  object\n",
      " 14  salary          32561 non-null  object\n",
      "dtypes: int64(6), object(9)\n",
      "memory usage: 3.7+ MB\n"
     ]
    }
   ],
   "source": [
    "adult_data.info()"
   ]
  },
  {
   "cell_type": "markdown",
   "id": "e610864c",
   "metadata": {},
   "source": [
    "So, there are 15 columns in the table: non-null int64 (6 columns) and non-null object (9 columns)"
   ]
  },
  {
   "cell_type": "markdown",
   "id": "42b1400d",
   "metadata": {},
   "source": [
    "Let's check if there is missing values in our data"
   ]
  },
  {
   "cell_type": "code",
   "execution_count": 5,
   "id": "03d62b1f",
   "metadata": {},
   "outputs": [
    {
     "data": {
      "text/plain": [
       "age               0\n",
       "workclass         0\n",
       "fnlwgt            0\n",
       "education         0\n",
       "education-num     0\n",
       "marital-status    0\n",
       "occupation        0\n",
       "relationship      0\n",
       "race              0\n",
       "sex               0\n",
       "capital-gain      0\n",
       "capital-loss      0\n",
       "hours-per-week    0\n",
       "native-country    0\n",
       "salary            0\n",
       "dtype: int64"
      ]
     },
     "execution_count": 5,
     "metadata": {},
     "output_type": "execute_result"
    }
   ],
   "source": [
    "adult_data.isnull().sum()"
   ]
  },
  {
   "cell_type": "markdown",
   "id": "ce63e683",
   "metadata": {},
   "source": [
    "Our data does not contain missing values so we can analyze our data by anwering some questions"
   ]
  },
  {
   "cell_type": "markdown",
   "id": "9ba1fd83",
   "metadata": {},
   "source": [
    "## Exploratory data analysis"
   ]
  },
  {
   "cell_type": "markdown",
   "id": "88a025e8",
   "metadata": {},
   "source": [
    "##### Let's check how many people for each race are represented in our data"
   ]
  },
  {
   "cell_type": "code",
   "execution_count": 6,
   "id": "1cedd6b1",
   "metadata": {},
   "outputs": [
    {
     "data": {
      "text/plain": [
       "White                 27816\n",
       "Black                  3124\n",
       "Asian-Pac-Islander     1039\n",
       "Amer-Indian-Eskimo      311\n",
       "Other                   271\n",
       "Name: race, dtype: int64"
      ]
     },
     "execution_count": 6,
     "metadata": {},
     "output_type": "execute_result"
    }
   ],
   "source": [
    "adult_data['race'].value_counts()"
   ]
  },
  {
   "cell_type": "markdown",
   "id": "66776d16",
   "metadata": {},
   "source": [
    "We can see that about 85% of the interviewed person are white"
   ]
  },
  {
   "cell_type": "markdown",
   "id": "a06a3499",
   "metadata": {},
   "source": [
    "##### Let's check the average age of men"
   ]
  },
  {
   "cell_type": "markdown",
   "id": "69f1cf63",
   "metadata": {},
   "source": [
    "Filtering"
   ]
  },
  {
   "cell_type": "code",
   "execution_count": 9,
   "id": "695d0d6a",
   "metadata": {},
   "outputs": [
    {
     "name": "stdout",
     "output_type": "stream",
     "text": [
      "39.4 is the average age of men\n"
     ]
    }
   ],
   "source": [
    "sex_male = adult_data['sex']=='Male'\n",
    "data_age_men = adult_data['age'].where(sex_male)\n",
    "average_age_men = round(data_age_men.mean(),1)\n",
    "print(f'{average_age_men} is the average age of men')"
   ]
  },
  {
   "cell_type": "markdown",
   "id": "835b654a",
   "metadata": {},
   "source": [
    "##### Let's check the percentage of people who have bachelor's degree"
   ]
  },
  {
   "cell_type": "markdown",
   "id": "6eaa58bd",
   "metadata": {},
   "source": [
    "Filtering"
   ]
  },
  {
   "cell_type": "code",
   "execution_count": 10,
   "id": "914783ce",
   "metadata": {},
   "outputs": [],
   "source": [
    "bachelors = adult_data['education'] == 'Bachelors'"
   ]
  },
  {
   "cell_type": "code",
   "execution_count": 11,
   "id": "3f31e569",
   "metadata": {},
   "outputs": [],
   "source": [
    "# Get the number of people who have bachelor degree\n",
    "number_bachelor = adult_data['education'].where(bachelors)"
   ]
  },
  {
   "cell_type": "code",
   "execution_count": 12,
   "id": "21a6c41b",
   "metadata": {},
   "outputs": [],
   "source": [
    "# We can get the percentage by dividing this latter by the total number multiplied by 100\n",
    "percentage_bachelor = round((number_bachelor.count()*100)/adult_data['education'].count(),2)"
   ]
  },
  {
   "cell_type": "code",
   "execution_count": 13,
   "id": "8c657de4",
   "metadata": {},
   "outputs": [
    {
     "data": {
      "text/plain": [
       "16.45"
      ]
     },
     "execution_count": 13,
     "metadata": {},
     "output_type": "execute_result"
    }
   ],
   "source": [
    "percentage_bachelor"
   ]
  },
  {
   "cell_type": "markdown",
   "id": "7dae7d3a",
   "metadata": {},
   "source": [
    "Only 16.45% have bachelor's degree"
   ]
  },
  {
   "cell_type": "markdown",
   "id": "ac40d697",
   "metadata": {},
   "source": [
    "##### Let's see the percentage of people with advanced education (Bachelors, Masters or Doctorate) who make more than 50K"
   ]
  },
  {
   "cell_type": "code",
   "execution_count": 16,
   "id": "8583c504",
   "metadata": {},
   "outputs": [],
   "source": [
    "# person with bachelor or master or doctorate degree\n",
    "advance_education = (adult_data['education']=='Bachelors') | (adult_data['education']=='Masters') | (adult_data['education'] == 'Doctorate')            "
   ]
  },
  {
   "cell_type": "code",
   "execution_count": 17,
   "id": "b2e94b29",
   "metadata": {},
   "outputs": [],
   "source": [
    "# Salary great than 50K\n",
    "salary_great_50K = adult_data['salary'] == '>50K'"
   ]
  },
  {
   "cell_type": "code",
   "execution_count": 18,
   "id": "30edc707",
   "metadata": {},
   "outputs": [],
   "source": [
    "# number of person with high degree\n",
    "high_education = adult_data['education'].where(advance_education).count()"
   ]
  },
  {
   "cell_type": "code",
   "execution_count": 19,
   "id": "a9ef5dc0",
   "metadata": {},
   "outputs": [
    {
     "name": "stdout",
     "output_type": "stream",
     "text": [
      "There is 46.5% of people with advanced degree who make more than 50K in the dataset\n"
     ]
    }
   ],
   "source": [
    "# percentage of person with high degree and make more than 50K\n",
    "# which is the number of person with high degree and who make more than 50K divided by the total number of \n",
    "# with high degree multiplied by 100\n",
    "percentage_high_education = round(adult_data['education'].where(advance_education & salary_great_50K).count() * 100/\n",
    "                                  high_education,1)\n",
    "print(f'There is {percentage_high_education}% of people with advanced degree who make more than 50K in the dataset')"
   ]
  },
  {
   "cell_type": "markdown",
   "id": "f2fa805b",
   "metadata": {},
   "source": [
    "##### Let's see the percentage of people without advanced degree but make more than 50K"
   ]
  },
  {
   "cell_type": "code",
   "execution_count": 22,
   "id": "adde6427",
   "metadata": {},
   "outputs": [],
   "source": [
    "# person without bachelor or master or doctorate degree\n",
    "not_advance_education = ~(adult_data['education']=='Bachelors') & ~(adult_data['education']=='Masters') & ~(adult_data['education'] == 'Doctorate')   "
   ]
  },
  {
   "cell_type": "code",
   "execution_count": 23,
   "id": "172355b4",
   "metadata": {},
   "outputs": [],
   "source": [
    "# number of person without advanced education\n",
    "low_education = adult_data['education'].where(not_advance_education).count()"
   ]
  },
  {
   "cell_type": "code",
   "execution_count": 24,
   "id": "da1e9725",
   "metadata": {},
   "outputs": [
    {
     "name": "stdout",
     "output_type": "stream",
     "text": [
      "There is 0.0% of people without advanced degree who make more than 50K in the dataset\n"
     ]
    }
   ],
   "source": [
    "percentage_low_education = round(adult_data['education'].where(not_advance_education & low_education).count() * 100 \n",
    "                                 / low_education,1)\n",
    "print(f'There is {percentage_low_education}% of people without advanced degree who make more than 50K in the dataset')"
   ]
  },
  {
   "cell_type": "markdown",
   "id": "de527186",
   "metadata": {},
   "source": [
    "##### Let's see the minimum number of hours a person work per week"
   ]
  },
  {
   "cell_type": "code",
   "execution_count": 25,
   "id": "bb15f0ba",
   "metadata": {},
   "outputs": [
    {
     "name": "stdout",
     "output_type": "stream",
     "text": [
      "The minimum number of hours a person wotk per week is 1h\n"
     ]
    }
   ],
   "source": [
    "min_work_hours = adult_data['hours-per-week'].min()\n",
    "print(f'The minimum number of hours a person wotk per week is {min_work_hours}h')"
   ]
  },
  {
   "cell_type": "markdown",
   "id": "e14e294b",
   "metadata": {},
   "source": [
    "##### Let's see what percentage of people who work the minimum number of hours per week have a salary more than 50K"
   ]
  },
  {
   "cell_type": "code",
   "execution_count": 26,
   "id": "16c42e30",
   "metadata": {},
   "outputs": [],
   "source": [
    "# number of person who work the minimum number of hours per week and have salary more than 50K\n",
    "number_pers_min_work_h = len(adult_data[(adult_data['hours-per-week']==min_work_hours) & salary_great_50K])"
   ]
  },
  {
   "cell_type": "code",
   "execution_count": 27,
   "id": "3185b561",
   "metadata": {},
   "outputs": [],
   "source": [
    "# number of person who work the minimum number of hours per week\n",
    "number_pers_work_min_hour = len(adult_data[adult_data['hours-per-week']==min_work_hours])"
   ]
  },
  {
   "cell_type": "code",
   "execution_count": 28,
   "id": "f45c7ef1",
   "metadata": {},
   "outputs": [
    {
     "name": "stdout",
     "output_type": "stream",
     "text": [
      "10.0% of the interviewed person work 1h per week and make more than 50K\n"
     ]
    }
   ],
   "source": [
    "# percentage of people who work the minimum number of hours per week have a salary more than 50K\n",
    "percentage_pers_work_min_hour = (number_pers_min_work_h*100)/number_pers_work_min_hour\n",
    "print(f'{percentage_pers_work_min_hour}% of the interviewed person work {min_work_hours}h per week and make more than 50K')"
   ]
  },
  {
   "cell_type": "markdown",
   "id": "7756ffc3",
   "metadata": {},
   "source": [
    "##### Let's see which country has the highest percentage of people that earn more than 50K"
   ]
  },
  {
   "cell_type": "code",
   "execution_count": 29,
   "id": "c4b65b48",
   "metadata": {},
   "outputs": [],
   "source": [
    "# create new dataframe with all the country in its entries\n",
    "country_list = pd.DataFrame(data=adult_data['native-country'].unique(), columns = [\"native-country\"])"
   ]
  },
  {
   "cell_type": "code",
   "execution_count": 30,
   "id": "92ac8bf8",
   "metadata": {},
   "outputs": [
    {
     "data": {
      "text/html": [
       "<div>\n",
       "<style scoped>\n",
       "    .dataframe tbody tr th:only-of-type {\n",
       "        vertical-align: middle;\n",
       "    }\n",
       "\n",
       "    .dataframe tbody tr th {\n",
       "        vertical-align: top;\n",
       "    }\n",
       "\n",
       "    .dataframe thead th {\n",
       "        text-align: right;\n",
       "    }\n",
       "</style>\n",
       "<table border=\"1\" class=\"dataframe\">\n",
       "  <thead>\n",
       "    <tr style=\"text-align: right;\">\n",
       "      <th></th>\n",
       "    </tr>\n",
       "    <tr>\n",
       "      <th>native-country</th>\n",
       "    </tr>\n",
       "  </thead>\n",
       "  <tbody>\n",
       "    <tr>\n",
       "      <th>United-States</th>\n",
       "    </tr>\n",
       "    <tr>\n",
       "      <th>Cuba</th>\n",
       "    </tr>\n",
       "    <tr>\n",
       "      <th>Jamaica</th>\n",
       "    </tr>\n",
       "    <tr>\n",
       "      <th>India</th>\n",
       "    </tr>\n",
       "    <tr>\n",
       "      <th>?</th>\n",
       "    </tr>\n",
       "    <tr>\n",
       "      <th>Mexico</th>\n",
       "    </tr>\n",
       "    <tr>\n",
       "      <th>South</th>\n",
       "    </tr>\n",
       "    <tr>\n",
       "      <th>Puerto-Rico</th>\n",
       "    </tr>\n",
       "    <tr>\n",
       "      <th>Honduras</th>\n",
       "    </tr>\n",
       "    <tr>\n",
       "      <th>England</th>\n",
       "    </tr>\n",
       "    <tr>\n",
       "      <th>Canada</th>\n",
       "    </tr>\n",
       "    <tr>\n",
       "      <th>Germany</th>\n",
       "    </tr>\n",
       "    <tr>\n",
       "      <th>Iran</th>\n",
       "    </tr>\n",
       "    <tr>\n",
       "      <th>Philippines</th>\n",
       "    </tr>\n",
       "    <tr>\n",
       "      <th>Italy</th>\n",
       "    </tr>\n",
       "    <tr>\n",
       "      <th>Poland</th>\n",
       "    </tr>\n",
       "    <tr>\n",
       "      <th>Columbia</th>\n",
       "    </tr>\n",
       "    <tr>\n",
       "      <th>Cambodia</th>\n",
       "    </tr>\n",
       "    <tr>\n",
       "      <th>Thailand</th>\n",
       "    </tr>\n",
       "    <tr>\n",
       "      <th>Ecuador</th>\n",
       "    </tr>\n",
       "    <tr>\n",
       "      <th>Laos</th>\n",
       "    </tr>\n",
       "    <tr>\n",
       "      <th>Taiwan</th>\n",
       "    </tr>\n",
       "    <tr>\n",
       "      <th>Haiti</th>\n",
       "    </tr>\n",
       "    <tr>\n",
       "      <th>Portugal</th>\n",
       "    </tr>\n",
       "    <tr>\n",
       "      <th>Dominican-Republic</th>\n",
       "    </tr>\n",
       "    <tr>\n",
       "      <th>El-Salvador</th>\n",
       "    </tr>\n",
       "    <tr>\n",
       "      <th>France</th>\n",
       "    </tr>\n",
       "    <tr>\n",
       "      <th>Guatemala</th>\n",
       "    </tr>\n",
       "    <tr>\n",
       "      <th>China</th>\n",
       "    </tr>\n",
       "    <tr>\n",
       "      <th>Japan</th>\n",
       "    </tr>\n",
       "    <tr>\n",
       "      <th>Yugoslavia</th>\n",
       "    </tr>\n",
       "    <tr>\n",
       "      <th>Peru</th>\n",
       "    </tr>\n",
       "    <tr>\n",
       "      <th>Outlying-US(Guam-USVI-etc)</th>\n",
       "    </tr>\n",
       "    <tr>\n",
       "      <th>Scotland</th>\n",
       "    </tr>\n",
       "    <tr>\n",
       "      <th>Trinadad&amp;Tobago</th>\n",
       "    </tr>\n",
       "    <tr>\n",
       "      <th>Greece</th>\n",
       "    </tr>\n",
       "    <tr>\n",
       "      <th>Nicaragua</th>\n",
       "    </tr>\n",
       "    <tr>\n",
       "      <th>Vietnam</th>\n",
       "    </tr>\n",
       "    <tr>\n",
       "      <th>Hong</th>\n",
       "    </tr>\n",
       "    <tr>\n",
       "      <th>Ireland</th>\n",
       "    </tr>\n",
       "    <tr>\n",
       "      <th>Hungary</th>\n",
       "    </tr>\n",
       "    <tr>\n",
       "      <th>Holand-Netherlands</th>\n",
       "    </tr>\n",
       "  </tbody>\n",
       "</table>\n",
       "</div>"
      ],
      "text/plain": [
       "Empty DataFrame\n",
       "Columns: []\n",
       "Index: [United-States, Cuba, Jamaica, India, ?, Mexico, South, Puerto-Rico, Honduras, England, Canada, Germany, Iran, Philippines, Italy, Poland, Columbia, Cambodia, Thailand, Ecuador, Laos, Taiwan, Haiti, Portugal, Dominican-Republic, El-Salvador, France, Guatemala, China, Japan, Yugoslavia, Peru, Outlying-US(Guam-USVI-etc), Scotland, Trinadad&Tobago, Greece, Nicaragua, Vietnam, Hong, Ireland, Hungary, Holand-Netherlands]"
      ]
     },
     "execution_count": 30,
     "metadata": {},
     "output_type": "execute_result"
    }
   ],
   "source": [
    "# convert it to be the index of the dataframe\n",
    "country_list.set_index('native-country')"
   ]
  },
  {
   "cell_type": "code",
   "execution_count": 31,
   "id": "5bea76c5",
   "metadata": {},
   "outputs": [],
   "source": [
    "country_list['number_of_earners'] = 0\n",
    "country_list['percentage'] = 0"
   ]
  },
  {
   "cell_type": "code",
   "execution_count": 33,
   "id": "d976765f",
   "metadata": {},
   "outputs": [],
   "source": [
    "# filtering\n",
    "for i, row in country_list.iterrows():\n",
    "    country = adult_data['native-country'] == row['native-country']\n",
    "    country_list.iloc[i, 1] = adult_data['native-country'].where(salary_great_50K & country).count()\n",
    "    country_list.iloc[i, 2] = country_list.iloc[i, 1] / adult_data['native-country'].where(country).count() * 100"
   ]
  },
  {
   "cell_type": "code",
   "execution_count": 34,
   "id": "f55b6553",
   "metadata": {},
   "outputs": [
    {
     "name": "stdout",
     "output_type": "stream",
     "text": [
      "Iran is the country that has highest percentage of people that earn more than 50K\n",
      "That percentage is 41.9%\n"
     ]
    }
   ],
   "source": [
    "highest_country = country_list.loc[country_list['percentage'].idxmax(), 'native-country']\n",
    "percentage_highest_country = round(country_list.loc[country_list['percentage'].idxmax(), 'percentage'],1)\n",
    "print(f'{highest_country} is the country that has highest percentage of people that earn more than 50K')\n",
    "print(f'That percentage is {percentage_highest_country}%')"
   ]
  },
  {
   "cell_type": "markdown",
   "id": "5620a2fd",
   "metadata": {},
   "source": [
    "##### Let's see the most popular occupation for those who earn more than 50K in India"
   ]
  },
  {
   "cell_type": "code",
   "execution_count": 35,
   "id": "298c0570",
   "metadata": {},
   "outputs": [
    {
     "name": "stdout",
     "output_type": "stream",
     "text": [
      "The most most popular occupation for those who earn more than 50K in India is Prof-specialty\n"
     ]
    }
   ],
   "source": [
    "country_India = adult_data['native-country']=='India'\n",
    "India_occupation = adult_data[(country_India) & (salary_great_50K)]\n",
    "popular_occupation = India_occupation['occupation'].value_counts().idxmax()\n",
    "print(f'The most most popular occupation for those who earn more than 50K in India is {popular_occupation}')"
   ]
  },
  {
   "cell_type": "code",
   "execution_count": null,
   "id": "387f1e4f",
   "metadata": {},
   "outputs": [],
   "source": []
  },
  {
   "cell_type": "markdown",
   "id": "22bb9c10",
   "metadata": {},
   "source": [
    "\n",
    "\n",
    "\n",
    "\n",
    "That is for this project, I had the opportunity to explore through the data by answering different questions.\n",
    "\n",
    "You can still explore the data by answering other questions if you want to."
   ]
  },
  {
   "cell_type": "code",
   "execution_count": null,
   "id": "76963460",
   "metadata": {},
   "outputs": [],
   "source": []
  }
 ],
 "metadata": {
  "kernelspec": {
   "display_name": "Python 3 (ipykernel)",
   "language": "python",
   "name": "python3"
  },
  "language_info": {
   "codemirror_mode": {
    "name": "ipython",
    "version": 3
   },
   "file_extension": ".py",
   "mimetype": "text/x-python",
   "name": "python",
   "nbconvert_exporter": "python",
   "pygments_lexer": "ipython3",
   "version": "3.9.7"
  }
 },
 "nbformat": 4,
 "nbformat_minor": 5
}
